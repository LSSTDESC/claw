{
 "cells": [
  {
   "cell_type": "markdown",
   "id": "257f7568",
   "metadata": {},
   "source": [
    "# Example of how to use this library"
   ]
  },
  {
   "cell_type": "code",
   "execution_count": null,
   "id": "abd5d93b",
   "metadata": {},
   "outputs": [],
   "source": [
    "%load_ext autoreload"
   ]
  },
  {
   "cell_type": "code",
   "execution_count": null,
   "id": "f2062a29",
   "metadata": {},
   "outputs": [],
   "source": [
    "import os, sys\n",
    "import numpy as np\n",
    "import pylab as plt"
   ]
  },
  {
   "cell_type": "code",
   "execution_count": null,
   "id": "34d37e64",
   "metadata": {},
   "outputs": [],
   "source": [
    "sys.path.append(os.getcwd().replace(\"examples\", \"\"))"
   ]
  },
  {
   "cell_type": "code",
   "execution_count": null,
   "id": "0941d34e",
   "metadata": {},
   "outputs": [],
   "source": [
    "import pyccl as ccl\n",
    "cosmo = ccl.Cosmology(\n",
    "    Omega_c=0.22, Omega_b=0.0448, h=0.71, sigma8=0.8, n_s=0.963, Neff=3.04)"
   ]
  },
  {
   "cell_type": "code",
   "execution_count": null,
   "id": "238e95f8",
   "metadata": {},
   "outputs": [],
   "source": [
    "from claw import ClusterAbundance\n",
    "from claw.halo_mass_function.ccl import Tinker08MassFunction\n",
    "from claw.mass_proxy.powerlaw import PowerLawGaussian\n",
    "from claw.redshift_proxy.gaussian import Gaussian"
   ]
  },
  {
   "cell_type": "code",
   "execution_count": null,
   "id": "bd9a4e82",
   "metadata": {},
   "outputs": [],
   "source": [
    "tk = Tinker08MassFunction(cosmo)\n",
    "plawgaus = PowerLawGaussian(14, .45)\n",
    "zgaus = Gaussian()"
   ]
  },
  {
   "cell_type": "code",
   "execution_count": null,
   "id": "46d90f7c",
   "metadata": {},
   "outputs": [],
   "source": [
    "cl = ClusterAbundance(\n",
    "    tk, cosmo,\n",
    "    prob_logMobs_logM_integ=plawgaus.prob_logM_logMobs_integ,\n",
    "    prob_zobs_ztrue_integ=zgaus.prob_z_zobs_integ\n",
    ")"
   ]
  },
  {
   "cell_type": "code",
   "execution_count": null,
   "id": "80f11a20",
   "metadata": {},
   "outputs": [],
   "source": [
    "#z = .5\n",
    "#logM = 14.2\n",
    "logMobs_lim=[14, 14.5]\n",
    "zobs_lim=[.4, .5]\n",
    "logMobs_args=(.4, 32, 1, 0, .1, .1, 0)\n",
    "zobs_args=[.03]"
   ]
  },
  {
   "cell_type": "code",
   "execution_count": null,
   "id": "0166053d",
   "metadata": {},
   "outputs": [],
   "source": [
    "nc = cl.compute_abundance(\n",
    "    logMobs_lim=[14, 14.5], zobs_lim=[.4, .5],\n",
    "    logMobs_args=(.4, 32, 1, 0, .1, .1, 0),\n",
    "    zobs_args=[.03],\n",
    ")"
   ]
  },
  {
   "cell_type": "code",
   "execution_count": null,
   "id": "6436db73",
   "metadata": {},
   "outputs": [],
   "source": [
    "nc"
   ]
  }
 ],
 "metadata": {
  "kernelspec": {
   "display_name": "Python 3 (ipykernel)",
   "language": "python",
   "name": "python3"
  },
  "language_info": {
   "codemirror_mode": {
    "name": "ipython",
    "version": 3
   },
   "file_extension": ".py",
   "mimetype": "text/x-python",
   "name": "python",
   "nbconvert_exporter": "python",
   "pygments_lexer": "ipython3",
   "version": "3.9.12"
  }
 },
 "nbformat": 4,
 "nbformat_minor": 5
}
